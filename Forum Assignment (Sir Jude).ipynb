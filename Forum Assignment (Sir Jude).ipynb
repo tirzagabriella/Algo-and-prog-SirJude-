{
 "cells": [
  {
   "cell_type": "code",
   "execution_count": 15,
   "metadata": {},
   "outputs": [
    {
     "name": "stdout",
     "output_type": "stream",
     "text": [
      "area=153.86\n"
     ]
    }
   ],
   "source": [
    "#Number 1\n",
    "rad = int(input(\"Input the value of the radius:\"))\n",
    "area = float(3.14 * rad * rad)\n",
    "print (\"area\",area, sep=\"=\")"
   ]
  },
  {
   "cell_type": "code",
   "execution_count": 16,
   "metadata": {},
   "outputs": [
    {
     "name": "stdout",
     "output_type": "stream",
     "text": [
      "So you are gabriella tirza\n"
     ]
    }
   ],
   "source": [
    "#Number 2\n",
    "x = (input(\"Input your first name:\"))\n",
    "y = (input(\"Input your last name:\"))\n",
    "x,y = y,x\n",
    "print (\"So you are\", x + \" \" + y)"
   ]
  },
  {
   "cell_type": "code",
   "execution_count": 5,
   "metadata": {},
   "outputs": [
    {
     "name": "stdout",
     "output_type": "stream",
     "text": [
      "Red\n",
      "Black\n"
     ]
    }
   ],
   "source": [
    "#Number 3\n",
    "color_list=[\"Red\",\"Green\",\"White\",\"Black\"]\n",
    "print(color_list[0])\n",
    "print(color_list[len(color_list)-1])"
   ]
  },
  {
   "cell_type": "code",
   "execution_count": 4,
   "metadata": {},
   "outputs": [
    {
     "name": "stdout",
     "output_type": "stream",
     "text": [
      "246\n"
     ]
    }
   ],
   "source": [
    "#Number 4\n",
    "n = (input(\"Enter the value:\"))\n",
    "print (int(n)+int(n*2)+int(n*3))"
   ]
  },
  {
   "cell_type": "code",
   "execution_count": 19,
   "metadata": {},
   "outputs": [
    {
     "name": "stdout",
     "output_type": "stream",
     "text": [
      "904.3199999999999\n",
      "904.32\n"
     ]
    }
   ],
   "source": [
    "#Number 5\n",
    "radius = 6\n",
    "phi = 3.14\n",
    "volume1= float(4/3 * phi * radius**3)\n",
    "print (volume1)\n",
    "d = radius*2\n",
    "volume2= float(phi * d**3/6)\n",
    "print (volume2)"
   ]
  },
  {
   "cell_type": "code",
   "execution_count": 23,
   "metadata": {},
   "outputs": [
    {
     "name": "stdout",
     "output_type": "stream",
     "text": [
      "4\n"
     ]
    }
   ],
   "source": [
    "#Number 6\n",
    "number = int(input(\"Input number:\"))\n",
    "total = 0\n",
    "if number >17:\n",
    "    total = (number-17)* 2\n",
    "    print(total)\n",
    "else:\n",
    "    print(\"Invalid\")"
   ]
  },
  {
   "cell_type": "code",
   "execution_count": 24,
   "metadata": {},
   "outputs": [
    {
     "name": "stdout",
     "output_type": "stream",
     "text": [
      "27\n"
     ]
    }
   ],
   "source": [
    "#Number 7\n",
    "one= eval(input(\"Enter number 1:\"))\n",
    "two= eval (input(\"Enter number 2:\"))\n",
    "three= eval (input(\"Enter number 3:\"))\n",
    "sum = one + two + three\n",
    "\n",
    "if one == two and two == three and one == three:\n",
    "    print (sum * 3)\n",
    "else:\n",
    "    print(sum)"
   ]
  },
  {
   "cell_type": "code",
   "execution_count": 2,
   "metadata": {},
   "outputs": [
    {
     "name": "stdout",
     "output_type": "stream",
     "text": [
      "The number you input is odd\n"
     ]
    }
   ],
   "source": [
    "#Number 8\n",
    "number = int(input(\"Input number:\"))\n",
    "if number % 2 == 0:\n",
    "    print (\"The number you input is even\")\n",
    "else:\n",
    "    print (\"The number you input is odd\")"
   ]
  },
  {
   "cell_type": "code",
   "execution_count": 13,
   "metadata": {},
   "outputs": [
    {
     "name": "stdout",
     "output_type": "stream",
     "text": [
      "The letter you input is vowel\n"
     ]
    }
   ],
   "source": [
    "#Number 9\n",
    "letter = (input(\"Input the letter:\"))\n",
    "if letter == \"a\" or letter == \"i\" or letter == \"u\" or letter == \"e\" or letter == \"o\":\n",
    "    print (\"The letter you input is vowel\")\n",
    "else:\n",
    "    print (\"The letter you input is consonant\")\n"
   ]
  },
  {
   "cell_type": "code",
   "execution_count": 25,
   "metadata": {},
   "outputs": [
    {
     "name": "stdout",
     "output_type": "stream",
     "text": [
      "You are on the list\n"
     ]
    }
   ],
   "source": [
    "#Number 10\n",
    "numList = [1,2,3,4,5]\n",
    "input_user = eval(input(\"Enter the number:\"))\n",
    "if input_user in numList:\n",
    "    print(\"You are on the list\")\n",
    "else:\n",
    "    print(\"You are not in the list\")"
   ]
  },
  {
   "cell_type": "code",
   "execution_count": 2,
   "metadata": {},
   "outputs": [
    {
     "name": "stdout",
     "output_type": "stream",
     "text": [
      "{0: 1, 1: 3, 2: 1, 3: 1, 7: 2, 23: 1}\n"
     ]
    }
   ],
   "source": [
    "#Number 11\n",
    "numbers = [0, 1, 1, 1, 2, 3, 7, 7, 23]\n",
    "histogram = {}\n",
    "for i in numbers:\n",
    "    histogram[i] = histogram.get(i, 0) + 1\n",
    "print(histogram)"
   ]
  },
  {
   "cell_type": "code",
   "execution_count": 28,
   "metadata": {},
   "outputs": [
    {
     "name": "stdout",
     "output_type": "stream",
     "text": [
      "[24, 58, 104, 162, 236, 248, 328, 344, 386, 412, 418, 462, 512, 566, 566, 626, 742, 758, 826, 866, 892, 894, 918, 950, 958, 978]\n"
     ]
    }
   ],
   "source": [
    "#Number 12\n",
    "numbers =  [ 386, 462, 47, 418, 907, 344, 236, 375, 823, 566, 597, 978, 328, 615, 953, 345,  399, 162, 758, 219, 918, 237, 412, 566, 826, 248, 866, 950, 626, 949, 687, 217, 815, 67, 104, 58, 512, 24, 892, 894, 767, 553, 81, 379, 843, 831, 445, 742, 717, 958,743, 527 ]\n",
    "result = []\n",
    "for x in numbers:\n",
    "    if x % 2 == 0:\n",
    "        result.append(x)\n",
    "result.sort()\n",
    "print(result)"
   ]
  },
  {
   "cell_type": "code",
   "execution_count": 32,
   "metadata": {},
   "outputs": [
    {
     "name": "stdout",
     "output_type": "stream",
     "text": [
      "17.25\n"
     ]
    }
   ],
   "source": [
    "#Number 13\n",
    "base= eval(input(\"Enter the base value:\"))\n",
    "height = eval(input(\"Enter the height value:\"))\n",
    "area = 1/2 * base * height\n",
    "print(round(area,2))"
   ]
  },
  {
   "cell_type": "code",
   "execution_count": 34,
   "metadata": {},
   "outputs": [
    {
     "name": "stdout",
     "output_type": "stream",
     "text": [
      "The LCM of 4 and 6 is 12\n"
     ]
    }
   ],
   "source": [
    "#Number 14\n",
    "x = int(input(\"Enter a positive integer:\"))\n",
    "y = int(input(\"Enter a second positive integer:\"))\n",
    "\n",
    "if x>y:\n",
    "    bigger = x\n",
    "else:\n",
    "    bigger = y\n",
    "while True:\n",
    "    if bigger%x==0 and bigger%y==0:\n",
    "        print(\"The LCM of\",x,\"and\",y,\"is\",bigger)\n",
    "        break\n",
    "    else:\n",
    "        bigger=bigger+1\n"
   ]
  },
  {
   "cell_type": "code",
   "execution_count": 33,
   "metadata": {},
   "outputs": [
    {
     "name": "stdout",
     "output_type": "stream",
     "text": [
      "0\n"
     ]
    }
   ],
   "source": [
    "#Number 15\n",
    "a = int(input(\"Enter the first value:\"))\n",
    "b = int(input(\"Enter the second value:\"))\n",
    "c = int(input(\"Enter the third value:\"))\n",
    "if a == b or b == c or a == c:\n",
    "    print (0)\n",
    "else:\n",
    "    print (a + b + c)"
   ]
  },
  {
   "cell_type": "code",
   "execution_count": 38,
   "metadata": {},
   "outputs": [
    {
     "name": "stdout",
     "output_type": "stream",
     "text": [
      "( 4 + 6 ) * ( 4 + 6 )= 100\n"
     ]
    }
   ],
   "source": [
    "#Number 16\n",
    "x = int(input(\"Enter a number:\"))\n",
    "y = int(input(\"Enter a number:\"))\n",
    "\n",
    "xy = (x + y) ** 2\n",
    "print (\"(\",x,\"+\",y,\") * (\",x,\"+\",y,\")=\",xy)"
   ]
  },
  {
   "cell_type": "code",
   "execution_count": 40,
   "metadata": {},
   "outputs": [
    {
     "name": "stdout",
     "output_type": "stream",
     "text": [
      "Future value is: 12722.79\n"
     ]
    }
   ],
   "source": [
    "# Number 17\n",
    "num1= eval (input(\"Enter amt:\"))\n",
    "num2= eval (input(\"Enter int:\"))\n",
    "num3= eval (input(\"Enter years:\"))\n",
    "\n",
    "X = num1 * (1+num2/100) **num3\n",
    "print (\"Future value is:\", round(X,2))"
   ]
  },
  {
   "cell_type": "code",
   "execution_count": 42,
   "metadata": {},
   "outputs": [
    {
     "name": "stdout",
     "output_type": "stream",
     "text": [
      "The distance will be: 2.24\n"
     ]
    }
   ],
   "source": [
    "# Number 18\n",
    "import math\n",
    "num1 = eval(input(\"Enter X1:\"))\n",
    "num2 = eval(input(\"Enter Y1:\"))\n",
    "num3 = eval(input(\"Enter X2:\"))\n",
    "num4 = eval(input(\"Enter Y2:\"))\n",
    "\n",
    "diss = math.sqrt(((num3-num1)**2 + (num4-num2)**2))\n",
    "print (\"The distance will be:\",round(diss,2))"
   ]
  },
  {
   "cell_type": "code",
   "execution_count": 45,
   "metadata": {},
   "outputs": [
    {
     "name": "stdout",
     "output_type": "stream",
     "text": [
      "Sum will be: 15\n"
     ]
    }
   ],
   "source": [
    "#Number 19\n",
    "number = int(input(\"Enter the number : \"))\n",
    "total = 0\n",
    "for x in range(1, number+1):\n",
    "  total += x\n",
    "print(\"Sum will be:\", total)"
   ]
  },
  {
   "cell_type": "code",
   "execution_count": 46,
   "metadata": {},
   "outputs": [
    {
     "name": "stdout",
     "output_type": "stream",
     "text": [
      "Feet to cm will be: 152.4 cm\n",
      "Inch to cm will be: 7.62 cm\n"
     ]
    }
   ],
   "source": [
    "#Number 20\n",
    "x = eval(input(\"Enter feet:\"))\n",
    "y = eval(input(\"Enter inch:\"))\n",
    "feet = x * 30.48\n",
    "inch = y * 2.54\n",
    "\n",
    "print (\"Feet to cm will be:\", feet, \"cm\")\n",
    "print (\"Inch to cm will be:\", inch, \"cm\")"
   ]
  },
  {
   "cell_type": "code",
   "execution_count": 48,
   "metadata": {},
   "outputs": [
    {
     "name": "stdout",
     "output_type": "stream",
     "text": [
      "hypotenuse of the triangle is: 10.0\n"
     ]
    }
   ],
   "source": [
    "#Number 21\n",
    "import math\n",
    "x = eval(input(\"Enter side 1 :\"))\n",
    "y = eval(input(\"Enter side 2 :\"))\n",
    "hypo = math.sqrt((x**2)+ (y**2))\n",
    "print(\"hypotenuse of the triangle is:\", hypo)"
   ]
  },
  {
   "cell_type": "code",
   "execution_count": 51,
   "metadata": {},
   "outputs": [
    {
     "name": "stdout",
     "output_type": "stream",
     "text": [
      "Your body mass index is: 60.0\n"
     ]
    }
   ],
   "source": [
    "#Number 22\n",
    "x = eval(input(\"Enter Weight (kg): \"))\n",
    "y = eval(input(\"Enter Height (m): \"))\n",
    "\n",
    "bmi = x / (y**2)\n",
    "print (\"Your body mass index is:\", round(bmi,2))"
   ]
  },
  {
   "cell_type": "code",
   "execution_count": 52,
   "metadata": {},
   "outputs": [
    {
     "name": "stdout",
     "output_type": "stream",
     "text": [
      "Midpoint of the line would be: 6.0 , 4.0\n"
     ]
    }
   ],
   "source": [
    "#Number 23\n",
    "num1 = eval(input(\"Enter X1:\"))\n",
    "num2 = eval(input(\"Enter Y1:\"))\n",
    "num3 = eval(input(\"Enter X2:\"))\n",
    "num4 = eval(input(\"Enter Y2:\"))\n",
    "\n",
    "mid1 = ((num1 + num3)/2)\n",
    "mid2 = ((num2 + num4)/2)\n",
    "print (\"Midpoint of the line would be:\",mid1, \",\", mid2)"
   ]
  },
  {
   "cell_type": "code",
   "execution_count": 13,
   "metadata": {},
   "outputs": [
    {
     "name": "stdout",
     "output_type": "stream",
     "text": [
      "2002,2009,2016,2023,2037,2044,2051,2058,2072,2079,2086,2093,2107,2114,2121,2128,2142,2149,2156,2163,2177,2184,2191,2198,2212,2219,2226,2233,2247,2254,2261,2268,2282,2289,2296,2303,2317,2324,2331,2338,2352,2359,2366,2373,2387,2394,2401,2408,2422,2429,2436,2443,2457,2464,2471,2478,2492,2499,2506,2513,2527,2534,2541,2548,2562,2569,2576,2583,2597,2604,2611,2618,2632,2639,2646,2653,2667,2674,2681,2688,2702,2709,2716,2723,2737,2744,2751,2758,2772,2779,2786,2793,2807,2814,2821,2828,2842,2849,2856,2863,2877,2884,2891,2898,2912,2919,2926,2933,2947,2954,2961,2968,2982,2989,2996,3003,3017,3024,3031,3038,3052,3059,3066,3073,3087,3094,3101,3108,3122,3129,3136,3143,3157,3164,3171,3178,3192,3199\n"
     ]
    }
   ],
   "source": [
    "#Number 24\n",
    "list = []\n",
    "for x in range(2000, 3201):\n",
    "  if x % 7 == 0 and x % 5 != 0:\n",
    "    list.append(str(x))\n",
    "\n",
    "print(','.join(list))"
   ]
  }
 ],
 "metadata": {
  "kernelspec": {
   "display_name": "Python 3.10.6 64-bit",
   "language": "python",
   "name": "python3"
  },
  "language_info": {
   "codemirror_mode": {
    "name": "ipython",
    "version": 3
   },
   "file_extension": ".py",
   "mimetype": "text/x-python",
   "name": "python",
   "nbconvert_exporter": "python",
   "pygments_lexer": "ipython3",
   "version": "3.10.6"
  },
  "orig_nbformat": 4,
  "vscode": {
   "interpreter": {
    "hash": "27f6fea6f47ae512550f0b8facdbd035a93e1dd89633f7bf2dd00a2502c71d0d"
   }
  }
 },
 "nbformat": 4,
 "nbformat_minor": 2
}
